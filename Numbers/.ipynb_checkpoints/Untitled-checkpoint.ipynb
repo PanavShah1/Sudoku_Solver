{
 "cells": [
  {
   "cell_type": "code",
   "execution_count": null,
   "id": "e80f74fa-7df7-43c3-9af1-0e8955e1f914",
   "metadata": {},
   "outputs": [],
   "source": [
    "import torch\n",
    "import cv2\n",
    "import matplotlib.pyplot as plt\n",
    "import numpy\n",
    "\n",
    "dataset_path = \""
   ]
  },
  {
   "cell_type": "code",
   "execution_count": null,
   "id": "b4f32c5a-3eda-4c20-9a1e-3b6df00aad96",
   "metadata": {},
   "outputs": [],
   "source": []
  }
 ],
 "metadata": {
  "kernelspec": {
   "display_name": "Python 3 (ipykernel)",
   "language": "python",
   "name": "python3"
  },
  "language_info": {
   "codemirror_mode": {
    "name": "ipython",
    "version": 3
   },
   "file_extension": ".py",
   "mimetype": "text/x-python",
   "name": "python",
   "nbconvert_exporter": "python",
   "pygments_lexer": "ipython3",
   "version": "3.12.1"
  }
 },
 "nbformat": 4,
 "nbformat_minor": 5
}
